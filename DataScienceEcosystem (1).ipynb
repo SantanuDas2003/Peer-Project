{
 "cells": [
  {
   "cell_type": "markdown",
   "id": "d9b96d57-3ece-4756-bb25-de9c278c1c23",
   "metadata": {},
   "source": [
    "# Data Science Tools and Ecosystem"
   ]
  },
  {
   "cell_type": "markdown",
   "id": "d66d3f53-0e70-44e7-aa6f-84177239638c",
   "metadata": {},
   "source": [
    "In this notebook, Data Science Tools and Ecosystem are summarized."
   ]
  },
  {
   "cell_type": "markdown",
   "id": "cdb607aa-6d11-417f-a270-fe8e7ab1f344",
   "metadata": {},
   "source": [
    "Some of the popular languages that Data Scientists use are:\n",
    "\n",
    "1) R\n",
    "2) SQL\n",
    "3) Python\n",
    "4) C++"
   ]
  },
  {
   "cell_type": "markdown",
   "id": "457d359b-a8af-43a6-b414-577ccc8400d3",
   "metadata": {},
   "source": [
    "Some of the commonly used libraries used by Data Scientists include:\n",
    "\n",
    "1) NumPy\n",
    "2) Scipy\n",
    "3) Pandas\n",
    "4) TensorFlow"
   ]
  },
  {
   "cell_type": "markdown",
   "id": "868ecf0c-1b79-4975-b47a-a3dcc63201f6",
   "metadata": {},
   "source": [
    "| Data Science Tool |\n",
    "|-------------------|\n",
    "|  Apache Hadoop    |\n",
    "|       SAS         |\n",
    "|   TensorFlow      |"
   ]
  },
  {
   "cell_type": "markdown",
   "id": "08d280bb-5ad6-43e8-a751-fbe13d71a626",
   "metadata": {},
   "source": [
    "### Below are a few examples of evaluating arithmetic expressions in Python"
   ]
  },
  {
   "cell_type": "code",
   "execution_count": 12,
   "id": "285ffab0-9fbc-48b0-9c16-fa6f4c7d562c",
   "metadata": {},
   "outputs": [
    {
     "data": {
      "text/plain": [
       "17"
      ]
     },
     "execution_count": 12,
     "metadata": {},
     "output_type": "execute_result"
    }
   ],
   "source": [
    "#This a simple arithmetic expression to mutiply then add integers\n",
    "(3*4)+5"
   ]
  },
  {
   "cell_type": "code",
   "execution_count": 14,
   "id": "636be81e-9f08-41ca-bb6f-ed13c51e05a3",
   "metadata": {},
   "outputs": [
    {
     "data": {
      "text/plain": [
       "3.3333333333333335"
      ]
     },
     "execution_count": 14,
     "metadata": {},
     "output_type": "execute_result"
    }
   ],
   "source": [
    "#This will convert 200 minutes to hours by diving by 60\n",
    "200/60"
   ]
  },
  {
   "cell_type": "markdown",
   "id": "0c0334ce-babd-4595-ae7d-e1d5cc7d9915",
   "metadata": {},
   "source": [
    "__Objectives:__\n",
    "* List popular languages for Data Science\n",
    "* List of some of Data Science Tools\n",
    "* List of some of the popular libraries used in Data Science"
   ]
  },
  {
   "cell_type": "markdown",
   "id": "d3c7d90b-b8f0-4715-9b81-a8e1b7490bc7",
   "metadata": {},
   "source": [
    "## Author\n",
    "Santanu Das"
   ]
  },
  {
   "cell_type": "code",
   "execution_count": null,
   "id": "b09712a2-3d0b-43db-b2b5-590fd4a89957",
   "metadata": {},
   "outputs": [],
   "source": []
  }
 ],
 "metadata": {
  "kernelspec": {
   "display_name": "Python 3 (ipykernel)",
   "language": "python",
   "name": "python3"
  },
  "language_info": {
   "codemirror_mode": {
    "name": "ipython",
    "version": 3
   },
   "file_extension": ".py",
   "mimetype": "text/x-python",
   "name": "python",
   "nbconvert_exporter": "python",
   "pygments_lexer": "ipython3",
   "version": "3.12.4"
  }
 },
 "nbformat": 4,
 "nbformat_minor": 5
}
